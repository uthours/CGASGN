{
  "nbformat": 4,
  "nbformat_minor": 0,
  "metadata": {
    "colab": {
      "provenance": [],
      "authorship_tag": "ABX9TyOAgI/eS1Q52lQWwXfHutuf",
      "include_colab_link": true
    },
    "kernelspec": {
      "name": "python3",
      "display_name": "Python 3"
    },
    "language_info": {
      "name": "python"
    }
  },
  "cells": [
    {
      "cell_type": "markdown",
      "metadata": {
        "id": "view-in-github",
        "colab_type": "text"
      },
      "source": [
        "<a href=\"https://colab.research.google.com/github/uthours/CGASGN/blob/main/InitialOV.ipynb\" target=\"_parent\"><img src=\"https://colab.research.google.com/assets/colab-badge.svg\" alt=\"Open In Colab\"/></a>"
      ]
    },
    {
      "cell_type": "markdown",
      "source": [
        "Over View"
      ],
      "metadata": {
        "id": "k89yd3kwwaxd"
      }
    },
    {
      "cell_type": "code",
      "source": [
        "!pip install matplotlib-venn\n",
        "import pydot\n",
        "import cartopy\n",
        "\n",
        "import org.junit.jupiter.api.Test;\n",
        "import org.springframework.boot.test.context.SpringBootTest;\n",
        "\n",
        "@SpringBootTest\n",
        "class MycoolappApplicationTests:\n",
        "{\n",
        "\n",
        "\t@Test\n",
        "\tvoid contextLoads() {\n",
        "\t}\n",
        "\n",
        "}\n"
      ],
      "metadata": {
        "colab": {
          "base_uri": "https://localhost:8080/",
          "height": 130
        },
        "id": "t_gouLWkxHP1",
        "outputId": "3517da87-5777-49e9-a864-619f44d11e46"
      },
      "execution_count": 21,
      "outputs": [
        {
          "output_type": "error",
          "ename": "IndentationError",
          "evalue": "ignored",
          "traceback": [
            "\u001b[0;36m  File \u001b[0;32m\"<ipython-input-21-4ab0bfe90a83>\"\u001b[0;36m, line \u001b[0;32m10\u001b[0m\n\u001b[0;31m    {\u001b[0m\n\u001b[0m    ^\u001b[0m\n\u001b[0;31mIndentationError\u001b[0m\u001b[0;31m:\u001b[0m expected an indented block after class definition on line 9\n"
          ]
        }
      ]
    }
  ]
}